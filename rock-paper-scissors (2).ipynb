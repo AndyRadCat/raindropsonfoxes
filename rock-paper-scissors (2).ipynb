{
 "cells": [
  {
   "cell_type": "markdown",
   "metadata": {},
   "source": [
    "<img src=\"https://bit.ly/2VnXWr2\" width=\"100\" align=\"left\">"
   ]
  },
  {
   "cell_type": "markdown",
   "metadata": {},
   "source": [
    "# Rock, Paper & Scissors\n",
    "\n",
    "Let's play the famous game against our computer. You can check the rules [here](https://en.wikipedia.org/wiki/Rock%E2%80%93paper%E2%80%93scissors). \n",
    "\n",
    "## Task\n",
    "Create a program that imitates the playability of the well known game of rock, paper, scissors. Follow the guidelines provided.\n",
    "\n",
    "## Tools\n",
    "1. Loop: **for/while**\n",
    "2. Functions: **input(), print()...**\n",
    "3. Conditional statements: **if, elif, else**\n",
    "4. Definition of functions. Modular programming\n",
    "5. Import modules\n",
    "\n",
    "**To solve this challenge, the use of functions is recommended.**\n",
    "\n",
    "#### 1. Import the choice function of the random module."
   ]
  },
  {
   "cell_type": "code",
   "execution_count": 1,
   "metadata": {},
   "outputs": [],
   "source": [
    "import random"
   ]
  },
  {
   "cell_type": "markdown",
   "metadata": {},
   "source": [
    "#### 2. Create a list that includes the 3 possible gesture options of the game: 'rock', 'paper' or 'scissors'. Store the list in a variable called `gestures`."
   ]
  },
  {
   "cell_type": "code",
   "execution_count": 2,
   "metadata": {},
   "outputs": [],
   "source": [
    "gestures = [\"rock\", \"paper\", \"scissors\"]"
   ]
  },
  {
   "cell_type": "markdown",
   "metadata": {},
   "source": [
    "#### 3. Create a variable called `n_rounds` to store the maximum number of rounds to play in a game. \n",
    "Remember that the number of rounds must be odd: 1, 3, 5, ..."
   ]
  },
  {
   "cell_type": "code",
   "execution_count": 3,
   "metadata": {},
   "outputs": [],
   "source": [
    "n_rounds = 7"
   ]
  },
  {
   "cell_type": "markdown",
   "metadata": {},
   "source": [
    "#### 4. Create a variable called `rounds_to_win` to store the number of rounds that a player must win to win the game.\n",
    "**Hint**: the value stored in `rounds_to_win` depends on the value of `n_rounds`. "
   ]
  },
  {
   "cell_type": "code",
   "execution_count": 4,
   "metadata": {},
   "outputs": [],
   "source": [
    "rounds_to_win = (n_rounds//2 + 1)"
   ]
  },
  {
   "cell_type": "markdown",
   "metadata": {},
   "source": [
    "#### 5. Create two variables to store the number of rounds that the computer and the player have won. Call these variables `cpu_score` and `player_score`."
   ]
  },
  {
   "cell_type": "code",
   "execution_count": 5,
   "metadata": {},
   "outputs": [],
   "source": [
    "cpu_score = 0\n",
    "player_score = 0"
   ]
  },
  {
   "cell_type": "markdown",
   "metadata": {},
   "source": [
    "#### 6. Define a function that randomly returns one of the 3 gesture options.\n",
    "You will use this function to simulate the gesture choice of the computer. "
   ]
  },
  {
   "cell_type": "code",
   "execution_count": 6,
   "metadata": {},
   "outputs": [],
   "source": [
    "def computers_choice():\n",
    "    comp_answer = random.choice(gestures)\n",
    "    return comp_answer"
   ]
  },
  {
   "cell_type": "markdown",
   "metadata": {},
   "source": [
    "#### 7. Define a function that asks the player which is the gesture he or she wants to show: 'rock', 'paper' or 'scissors'.\n",
    "The player should only be allowed to choose one of the 3 gesture options. If the player's choice is not rock, paper or scissors, keep asking until it is."
   ]
  },
  {
   "cell_type": "code",
   "execution_count": 7,
   "metadata": {},
   "outputs": [],
   "source": [
    "def humans_choice():\n",
    "    answer = input(\"Weapon of choice: Rock, Paper, Scissors?: \")\n",
    "    while answer.lower() not in ('rock', 'paper', 'scissors'):\n",
    "        print(\"Invalid answer - please try again!\")\n",
    "        answer = input(\"Weapon of choice: Rock, Paper, Scissors?: \")\n",
    "    return answer"
   ]
  },
  {
   "cell_type": "markdown",
   "metadata": {},
   "source": [
    "#### 8. Define a function that checks who won a round. \n",
    "The function should return 0 if there is a tie, 1 if the computer wins and 2 if the player wins."
   ]
  },
  {
   "cell_type": "code",
   "execution_count": 8,
   "metadata": {},
   "outputs": [],
   "source": [
    "# 1st position is computers_choice, 2nd is humans_choice\n",
    "combos = {('rock', 'paper') : 2,\n",
    "          ('rock', 'scissors') : 1,\n",
    "         ('scissors', 'rock') : 2,\n",
    "         ('scissors', 'paper') : 1,\n",
    "         ('paper', 'scissors') : 2,\n",
    "         ('paper', 'rock') : 1}\n",
    "def champion_round(computers_choice, humans_choice):\n",
    "    if computers_choice == humans_choice:\n",
    "        return 0\n",
    "    else:\n",
    "        return combos[(computers_choice, humans_choice)]"
   ]
  },
  {
   "cell_type": "markdown",
   "metadata": {},
   "source": [
    "#### 9. Define a function that prints the choice of the computer, the choice of the player and a message that announces who won the current round. \n",
    "You should also use this function to update the variables that count the number of rounds that the computer and the player have won. The score of the winner increases by one point. If there is a tie, the score does not increase."
   ]
  },
  {
   "cell_type": "code",
   "execution_count": 9,
   "metadata": {},
   "outputs": [],
   "source": [
    "def announcements(cpu_score, human_score):\n",
    "    comp_choice = computers_choice()\n",
    "    h_choice = humans_choice()\n",
    "\n",
    "    \n",
    "    result = champion_round(comp_choice, h_choice)\n",
    "    \n",
    "    tie = 0\n",
    "    if result == 1:\n",
    "        print(f'{comp_choice} vs {h_choice} - Computer wins')\n",
    "        cpu_score += 1\n",
    "    elif result == 2:\n",
    "        print(f'{comp_choice} vs {h_choice} - Humamn wins')\n",
    "        human_score +=1\n",
    "    else: \n",
    "        print(f'{comp_choice} vs {h_choice} - Tie!')\n",
    "\n",
    "    \n",
    "    return cpu_score, human_score"
   ]
  },
  {
   "cell_type": "markdown",
   "metadata": {},
   "source": [
    "#### 10. Now it's time to code the execution of the game using the functions and variables you defined above. \n",
    "\n",
    "First, create a loop structure that repeats while no player reaches the minimum score necessary to win and the number of rounds is less than the maximum number of rounds to play in a game.  \n",
    "\n",
    "Inside the loop, use the functions and variables above to create the execution of a round: ask for the player's choice, generate the random choice of the computer, show the round results, update the scores, etc. "
   ]
  },
  {
   "cell_type": "code",
   "execution_count": 10,
   "metadata": {},
   "outputs": [],
   "source": [
    "def win_rounds(num_rounds):\n",
    "    return (num_rounds // 2 + 1) "
   ]
  },
  {
   "cell_type": "markdown",
   "metadata": {},
   "source": [
    "#### 11. Print the winner of the game based on who won more rounds.\n",
    "Remember that the game might be tied. "
   ]
  },
  {
   "cell_type": "raw",
   "metadata": {},
   "source": []
  },
  {
   "cell_type": "code",
   "execution_count": 11,
   "metadata": {},
   "outputs": [
    {
     "name": "stdout",
     "output_type": "stream",
     "text": [
      "Weapon of choice: Rock, Paper, Scissors?: rock\n",
      "rock vs rock - Tie!\n",
      "Weapon of choice: Rock, Paper, Scissors?: paper\n",
      "scissors vs paper - Computer wins\n",
      "Weapon of choice: Rock, Paper, Scissors?: scissors\n",
      "rock vs scissors - Computer wins\n",
      "Weapon of choice: Rock, Paper, Scissors?: scissors\n",
      "scissors vs scissors - Tie!\n",
      "Weapon of choice: Rock, Paper, Scissors?: paper\n",
      "scissors vs paper - Computer wins\n",
      "Weapon of choice: Rock, Paper, Scissors?: rock\n",
      "paper vs rock - Computer wins\n"
     ]
    }
   ],
   "source": [
    "cpu, human = 0,0 \n",
    "\n",
    "num_rounds_played = 0\n",
    "\n",
    "while ((cpu<rounds_to_win) and (human < rounds_to_win)) and (num_rounds_played< n_rounds):\n",
    "    cpu, human = announcements(cpu, human)\n",
    "    num_rounds_played += 1"
   ]
  },
  {
   "cell_type": "code",
   "execution_count": 12,
   "metadata": {},
   "outputs": [
    {
     "name": "stdout",
     "output_type": "stream",
     "text": [
      "Computer wins - 4 for computer and 0 for human\n"
     ]
    }
   ],
   "source": [
    "if cpu == human:\n",
    "    print('Tie!')\n",
    "elif cpu > human:\n",
    "    print(f'Computer wins - {cpu} for computer and {human} for human')\n",
    "elif cpu < human:\n",
    "    print(f'Human wins - {cpu} for computer and {human} for human)')"
   ]
  },
  {
   "cell_type": "code",
   "execution_count": null,
   "metadata": {},
   "outputs": [],
   "source": []
  },
  {
   "cell_type": "markdown",
   "metadata": {},
   "source": [
    "# Bonus: Rock, Paper, Scissors, Lizard & Spock\n",
    "![](images/rpsls.jpg)\n",
    "\n",
    "In this challenge, you need to improve the previous game by adding two new options. To know more about the rules of the improved version of rock, paper, scissors, check this [link](http://www.samkass.com/theories/RPSSL.html). \n",
    "\n",
    "In addition, you will also need to improve how the game interacts with the player: the number of rounds to play, which must be an odd number, will be requested to the user until a valid number is entered. Define a new function to make that request.\n",
    "\n",
    "**Hint**: Try to reuse the code that you already coded in the previous challenge. If your code is efficient, this bonus will only consist of simple modifications to the original game."
   ]
  },
  {
   "cell_type": "code",
   "execution_count": 17,
   "metadata": {},
   "outputs": [],
   "source": [
    "import random\n",
    "\n",
    "gestures_cray = [\"rock\", \"paper\", \"scissors\", \"lizard\", \"spock\"]\n",
    "\n",
    "number_rounds = 7\n",
    "rounds_for_win = (number_rounds//2 + 1)\n",
    "comp_score = 0\n",
    "user_score = 0\n",
    "\n",
    "\n",
    "def computer_choice():\n",
    "    computers_answer = random.choice(gestures_cray)\n",
    "    return computers_answer\n",
    "\n",
    "def users_choice():\n",
    "    response = input(\"Weapon of choice: Rock, Paper, Scissors, Lizard, Spock?: \")\n",
    "    while response.lower() not in ('rock', 'paper', 'scissors', 'lizard', 'spock'):\n",
    "        print(\"Invalid answer - please try again!\")\n",
    "        response = input(\"Weapon of choice: Rock, Paper, Scissors, Lizard, Spock?: \")\n",
    "    return response\n",
    "\n",
    "# 1st position is computers_choice, 2nd is humans_choice\n",
    "combinations = {('rock', 'paper') : 2,\n",
    "          ('rock', 'scissors') : 1,\n",
    "          ('rock', 'spock') : 2,\n",
    "          ('rock', 'lizard') :1,\n",
    "         ('scissors', 'rock') : 2,\n",
    "         ('scissors', 'paper') : 1,\n",
    "          ('scissors', 'spock') :2,\n",
    "          ('scissors', 'lizard') : 1, \n",
    "         ('paper', 'scissors') : 2,\n",
    "         ('paper', 'rock') : 1,\n",
    "          ('paper', 'spock') : 1, \n",
    "          ('paper', 'lizard') : 2, \n",
    "          ('spock', 'paper') : 2, \n",
    "          ('spock', 'scissors') : 1, \n",
    "          ('spock', 'rock') : 1, \n",
    "          ('spock', 'lizard') : 2, \n",
    "          ('lizard', 'paper') : 1, \n",
    "          ('lizard', 'scissors') : 2, \n",
    "          ('lizard', 'rock') : 2, \n",
    "          ('lizard', 'spock') : 1 \n",
    "         }\n",
    "\n",
    "def TheChampion(computer_choice, user_choice):\n",
    "    if computer_choice == user_choice:\n",
    "        return 0\n",
    "    else:\n",
    "        return combinations[(computer_choice, user_choice)]\n",
    "    \n",
    "def announce(comp_score, user_score):\n",
    "    c_choice = computer_choice()\n",
    "    hu_choice = users_choice()\n",
    "\n",
    "    \n",
    "    attained = TheChampion(c_choice, hu_choice)\n",
    "    \n",
    "    tie = 0\n",
    "    if attained == 1:\n",
    "        print(f'{c_choice} vs {hu_choice} - Computer wins')\n",
    "        comp_score += 1\n",
    "    elif attained == 2:\n",
    "        print(f'{c_choice} vs {hu_choice} - The Human wins')\n",
    "        user_score +=1\n",
    "    else: \n",
    "        print(f\"{c_choice} vs {hu_choice} - It's a Tie!, fellow friends\")\n",
    "\n",
    "    \n",
    "    return comp_score, user_score\n",
    "\n",
    "def winner_rounds(nummer_rounds):\n",
    "    return (nummer_rounds // 2 + 1) \n",
    "\n"
   ]
  },
  {
   "cell_type": "code",
   "execution_count": 18,
   "metadata": {},
   "outputs": [
    {
     "name": "stdout",
     "output_type": "stream",
     "text": [
      "Weapon of choice: Rock, Paper, Scissors, Lizard, Spock?: scissors\n",
      "scissors vs scissors - It's a Tie!, fellow friends\n",
      "Weapon of choice: Rock, Paper, Scissors, Lizard, Spock?: spock\n",
      "spock vs spock - It's a Tie!, fellow friends\n",
      "Weapon of choice: Rock, Paper, Scissors, Lizard, Spock?: spock\n",
      "spock vs spock - It's a Tie!, fellow friends\n",
      "Weapon of choice: Rock, Paper, Scissors, Lizard, Spock?: spock\n",
      "paper vs spock - Computer wins\n",
      "Weapon of choice: Rock, Paper, Scissors, Lizard, Spock?: rock\n",
      "spock vs rock - Computer wins\n",
      "Weapon of choice: Rock, Paper, Scissors, Lizard, Spock?: lizard\n",
      "lizard vs lizard - It's a Tie!, fellow friends\n",
      "Weapon of choice: Rock, Paper, Scissors, Lizard, Spock?: lizard\n",
      "paper vs lizard - The Human wins\n"
     ]
    }
   ],
   "source": [
    "comp, user = 0,0 \n",
    "\n",
    "number_rounds_played = 0\n",
    "\n",
    "while ((comp < rounds_for_win) and (user < rounds_for_win)) and (number_rounds_played < number_rounds):\n",
    "    comp, user = announce(comp, user)\n",
    "    number_rounds_played += 1"
   ]
  },
  {
   "cell_type": "code",
   "execution_count": null,
   "metadata": {},
   "outputs": [],
   "source": []
  }
 ],
 "metadata": {
  "kernelspec": {
   "display_name": "Python 3",
   "language": "python",
   "name": "python3"
  },
  "language_info": {
   "codemirror_mode": {
    "name": "ipython",
    "version": 3
   },
   "file_extension": ".py",
   "mimetype": "text/x-python",
   "name": "python",
   "nbconvert_exporter": "python",
   "pygments_lexer": "ipython3",
   "version": "3.7.6"
  }
 },
 "nbformat": 4,
 "nbformat_minor": 2
}
